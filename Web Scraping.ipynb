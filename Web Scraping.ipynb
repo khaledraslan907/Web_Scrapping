{
 "cells": [
  {
   "cell_type": "code",
   "execution_count": 110,
   "metadata": {},
   "outputs": [],
   "source": [
    "import requests\n",
    "from bs4 import BeautifulSoup\n",
    "import csv\n",
    "from datetime import datetime"
   ]
  },
  {
   "cell_type": "code",
   "execution_count": 111,
   "metadata": {},
   "outputs": [],
   "source": [
    "default_date = datetime.today().strftime('%m/%d/%Y')"
   ]
  },
  {
   "cell_type": "code",
   "execution_count": 118,
   "metadata": {},
   "outputs": [
    {
     "name": "stdout",
     "output_type": "stream",
     "text": [
      "Selected date: 10/01/2024\n"
     ]
    }
   ],
   "source": [
    "def get_date_input():\n",
    "    date_input = input(f\"Please enter a date in the following format MM/DD/YYYY (default is {default_date}): \") or default_date\n",
    "    try:\n",
    "        # Try to parse the input date; if invalid, it will raise a ValueError\n",
    "        valid_date = datetime.strptime(date_input, '%m/%d/%Y').strftime('%m/%d/%Y')\n",
    "        return valid_date\n",
    "    except ValueError:\n",
    "        # If format is incorrect, use the default date\n",
    "        print(\"Invalid date format. Using today's date as default.\")\n",
    "        return default_date\n",
    "\n",
    "# Get the validated date\n",
    "date = get_date_input()\n",
    "print(\"Selected date:\", date)"
   ]
  },
  {
   "cell_type": "code",
   "execution_count": 119,
   "metadata": {},
   "outputs": [],
   "source": [
    "page = requests.get(f\"https://www.yallakora.com/match-center/?date={date}\")"
   ]
  },
  {
   "cell_type": "code",
   "execution_count": 120,
   "metadata": {},
   "outputs": [
    {
     "name": "stdout",
     "output_type": "stream",
     "text": [
      "file_Created\n"
     ]
    }
   ],
   "source": [
    "def main(page):\n",
    "    src = page.content\n",
    "    soup = BeautifulSoup(src, \"lxml\")\n",
    "    matches_details = []\n",
    "    \n",
    "    championships = soup.find_all(\"div\", {'class': 'matchCard'})\n",
    "    def get_match_info(championships):\n",
    "        championship_title = championships.contents[1].find('h2').text.strip()\n",
    "        all_matches = championships.contents[3].find_all(\"div\", {'class': 'liItem'})\n",
    "        number_of_matches = len(all_matches)\n",
    "        for i in range(number_of_matches):\n",
    "            \n",
    "            # get team names\n",
    "            team_A = all_matches[i].find(\"div\", {'class': 'teamA'}).text.strip()\n",
    "            team_B = all_matches[i].find(\"div\", {'class': 'teamB'}).text.strip()\n",
    "            \n",
    "            # get Score\n",
    "            match_result = all_matches[i].find(\"div\", {'class': 'MResult'}).find_all('span', {'class': 'score'})\n",
    "            score = f\"{match_result[0].text.strip()} - {match_result[1].text.strip()}\"\n",
    "            \n",
    "            # get match time\n",
    "            match_time = all_matches[i].find(\"div\", {'class': 'MResult'}).find('span', {'class': 'time'}).text.strip()\n",
    "            \n",
    "            # add match_info to matches_details\n",
    "            matches_details.append({\n",
    "                'اسم البطولة': championship_title, \n",
    "                'الفريق الأول': team_A, \n",
    "                'الفريق الثاني': team_B, \n",
    "                'موعد المباراة': match_time, \n",
    "                'النتيجة': score\n",
    "                }) \n",
    "            \n",
    "    for i in range (len(championships)):\n",
    "        get_match_info(championships[i])  \n",
    "        \n",
    "    keys = matches_details[0].keys()\n",
    "    \n",
    "    with open ('E:/Data analysis/DEPI/11/matches-details.csv', 'w', encoding='utf-8', newline='') as output_file:\n",
    "        dict_writer = csv.DictWriter(output_file, keys)\n",
    "        dict_writer.writeheader()\n",
    "        dict_writer.writerows(matches_details)\n",
    "        print('file_Created')\n",
    "      \n",
    "main(page)"
   ]
  }
 ],
 "metadata": {
  "kernelspec": {
   "display_name": "Python 3",
   "language": "python",
   "name": "python3"
  },
  "language_info": {
   "codemirror_mode": {
    "name": "ipython",
    "version": 3
   },
   "file_extension": ".py",
   "mimetype": "text/x-python",
   "name": "python",
   "nbconvert_exporter": "python",
   "pygments_lexer": "ipython3",
   "version": "3.12.7"
  }
 },
 "nbformat": 4,
 "nbformat_minor": 2
}
